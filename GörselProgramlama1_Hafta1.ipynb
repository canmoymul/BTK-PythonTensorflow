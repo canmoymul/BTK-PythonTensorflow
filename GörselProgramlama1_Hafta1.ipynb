{
  "nbformat": 4,
  "nbformat_minor": 0,
  "metadata": {
    "colab": {
      "name": "GörselProgramlama1_Hafta1.ipynb",
      "provenance": [],
      "authorship_tag": "ABX9TyM8ZpuTeTkTpHK87Y5w9wE5",
      "include_colab_link": true
    },
    "kernelspec": {
      "name": "python3",
      "display_name": "Python 3"
    },
    "language_info": {
      "name": "python"
    }
  },
  "cells": [
    {
      "cell_type": "markdown",
      "metadata": {
        "id": "view-in-github",
        "colab_type": "text"
      },
      "source": [
        "<a href=\"https://colab.research.google.com/github/canmoymul/BTK-PythonTensorflow/blob/master/G%C3%B6rselProgramlama1_Hafta1.ipynb\" target=\"_parent\"><img src=\"https://colab.research.google.com/assets/colab-badge.svg\" alt=\"Open In Colab\"/></a>"
      ]
    },
    {
      "cell_type": "code",
      "metadata": {
        "colab": {
          "base_uri": "https://localhost:8080/"
        },
        "id": "KTTasvQGSCdU",
        "outputId": "36bd5a08-306e-4972-ff1e-f63ae65e0fa3"
      },
      "source": [
        "6 * 5"
      ],
      "execution_count": 1,
      "outputs": [
        {
          "output_type": "execute_result",
          "data": {
            "text/plain": [
              "30"
            ]
          },
          "metadata": {},
          "execution_count": 1
        }
      ]
    },
    {
      "cell_type": "code",
      "metadata": {
        "colab": {
          "base_uri": "https://localhost:8080/"
        },
        "id": "ZmxmCZ8vS95r",
        "outputId": "49534d26-79de-4833-9254-59dd03c2d416"
      },
      "source": [
        "50 + 300"
      ],
      "execution_count": 2,
      "outputs": [
        {
          "output_type": "execute_result",
          "data": {
            "text/plain": [
              "350"
            ]
          },
          "metadata": {},
          "execution_count": 2
        }
      ]
    },
    {
      "cell_type": "markdown",
      "metadata": {
        "id": "fWHUFiyvTPeF"
      },
      "source": [
        "Variables(Değişkenler)"
      ]
    },
    {
      "cell_type": "code",
      "metadata": {
        "id": "EZPTwAPNTT6k"
      },
      "source": [
        "sayı1 = 6"
      ],
      "execution_count": 4,
      "outputs": []
    },
    {
      "cell_type": "code",
      "metadata": {
        "id": "PjPH_buxTfkf"
      },
      "source": [
        "sayı2 = 5"
      ],
      "execution_count": 5,
      "outputs": []
    },
    {
      "cell_type": "code",
      "metadata": {
        "id": "KJWAs9SJTjYh"
      },
      "source": [
        "çarpım = sayı1 * sayı2"
      ],
      "execution_count": 6,
      "outputs": []
    },
    {
      "cell_type": "code",
      "metadata": {
        "colab": {
          "base_uri": "https://localhost:8080/"
        },
        "id": "7-ZoBdfHTsZS",
        "outputId": "5ae879f0-afe1-40bb-f1fe-3d0d1e088f37"
      },
      "source": [
        "çarpım"
      ],
      "execution_count": 7,
      "outputs": [
        {
          "output_type": "execute_result",
          "data": {
            "text/plain": [
              "30"
            ]
          },
          "metadata": {},
          "execution_count": 7
        }
      ]
    },
    {
      "cell_type": "code",
      "metadata": {
        "id": "IhJZRFFETvmK"
      },
      "source": [
        "karesi = çarpım ** 2"
      ],
      "execution_count": 8,
      "outputs": []
    },
    {
      "cell_type": "code",
      "metadata": {
        "colab": {
          "base_uri": "https://localhost:8080/"
        },
        "id": "CEwfNj-tUCmJ",
        "outputId": "2928905d-8a7b-4ef6-cdc1-43c45f655f91"
      },
      "source": [
        "karesi"
      ],
      "execution_count": 9,
      "outputs": [
        {
          "output_type": "execute_result",
          "data": {
            "text/plain": [
              "900"
            ]
          },
          "metadata": {},
          "execution_count": 9
        }
      ]
    },
    {
      "cell_type": "code",
      "metadata": {
        "colab": {
          "base_uri": "https://localhost:8080/"
        },
        "id": "gnZEwtrfUDUz",
        "outputId": "97848270-add0-4a0f-ee1e-84e53fe2a17d"
      },
      "source": [
        "karesi * 2"
      ],
      "execution_count": 10,
      "outputs": [
        {
          "output_type": "execute_result",
          "data": {
            "text/plain": [
              "1800"
            ]
          },
          "metadata": {},
          "execution_count": 10
        }
      ]
    },
    {
      "cell_type": "markdown",
      "metadata": {
        "id": "UpX5_6pkUPHW"
      },
      "source": [
        "Integer (Tam Sayı) & Float (Virgüllü, Ondalıklı Sayı)"
      ]
    },
    {
      "cell_type": "code",
      "metadata": {
        "colab": {
          "base_uri": "https://localhost:8080/"
        },
        "id": "yUKTyQIOUVXb",
        "outputId": "ef1acb90-799b-42db-ecee-b035cbb05786"
      },
      "source": [
        "type(karesi)"
      ],
      "execution_count": 11,
      "outputs": [
        {
          "output_type": "execute_result",
          "data": {
            "text/plain": [
              "int"
            ]
          },
          "metadata": {},
          "execution_count": 11
        }
      ]
    },
    {
      "cell_type": "code",
      "metadata": {
        "colab": {
          "base_uri": "https://localhost:8080/"
        },
        "id": "l8bi44wMUcBJ",
        "outputId": "83e4ed54-4c04-4426-a806-e715662481c4"
      },
      "source": [
        "type(çarpım)"
      ],
      "execution_count": 12,
      "outputs": [
        {
          "output_type": "execute_result",
          "data": {
            "text/plain": [
              "int"
            ]
          },
          "metadata": {},
          "execution_count": 12
        }
      ]
    },
    {
      "cell_type": "code",
      "metadata": {
        "colab": {
          "base_uri": "https://localhost:8080/"
        },
        "id": "BcCjV6UBUeRX",
        "outputId": "27a9ff41-ab33-425b-e805-d5b58699aa74"
      },
      "source": [
        "type(sayı1)"
      ],
      "execution_count": 13,
      "outputs": [
        {
          "output_type": "execute_result",
          "data": {
            "text/plain": [
              "int"
            ]
          },
          "metadata": {},
          "execution_count": 13
        }
      ]
    },
    {
      "cell_type": "code",
      "metadata": {
        "colab": {
          "base_uri": "https://localhost:8080/"
        },
        "id": "dkq4ieP9UpAX",
        "outputId": "28601e86-133d-4d8c-9fb6-0070f037c99e"
      },
      "source": [
        "sayı1"
      ],
      "execution_count": 16,
      "outputs": [
        {
          "output_type": "execute_result",
          "data": {
            "text/plain": [
              "6"
            ]
          },
          "metadata": {},
          "execution_count": 16
        }
      ]
    },
    {
      "cell_type": "code",
      "metadata": {
        "colab": {
          "base_uri": "https://localhost:8080/"
        },
        "id": "sLdWJOTSUqOE",
        "outputId": "fdf6f743-5dda-4a77-c99b-e83c96a2bf5a"
      },
      "source": [
        "sayı2"
      ],
      "execution_count": 17,
      "outputs": [
        {
          "output_type": "execute_result",
          "data": {
            "text/plain": [
              "5"
            ]
          },
          "metadata": {},
          "execution_count": 17
        }
      ]
    },
    {
      "cell_type": "code",
      "metadata": {
        "colab": {
          "base_uri": "https://localhost:8080/"
        },
        "id": "sl3V2iOnUrrF",
        "outputId": "3b3af944-a777-4055-8e69-1f652ac4e483"
      },
      "source": [
        "type(sayı2)"
      ],
      "execution_count": 18,
      "outputs": [
        {
          "output_type": "execute_result",
          "data": {
            "text/plain": [
              "int"
            ]
          },
          "metadata": {},
          "execution_count": 18
        }
      ]
    },
    {
      "cell_type": "code",
      "metadata": {
        "id": "sXnxFeo6Uuws"
      },
      "source": [
        "sonuç = sayı1 / sayı2 "
      ],
      "execution_count": 19,
      "outputs": []
    },
    {
      "cell_type": "code",
      "metadata": {
        "colab": {
          "base_uri": "https://localhost:8080/"
        },
        "id": "TQTSKR6hU3uu",
        "outputId": "9404e94f-18e8-4d14-f943-a9f707a7569d"
      },
      "source": [
        "sonuç"
      ],
      "execution_count": 20,
      "outputs": [
        {
          "output_type": "execute_result",
          "data": {
            "text/plain": [
              "1.2"
            ]
          },
          "metadata": {},
          "execution_count": 20
        }
      ]
    },
    {
      "cell_type": "code",
      "metadata": {
        "colab": {
          "base_uri": "https://localhost:8080/"
        },
        "id": "cFlrWIy_U4bV",
        "outputId": "e64dda25-ef67-41d3-a872-9b6d2927ef0c"
      },
      "source": [
        "type(sonuç)"
      ],
      "execution_count": 21,
      "outputs": [
        {
          "output_type": "execute_result",
          "data": {
            "text/plain": [
              "float"
            ]
          },
          "metadata": {},
          "execution_count": 21
        }
      ]
    },
    {
      "cell_type": "code",
      "metadata": {
        "id": "H0QUKyz2U6Yl"
      },
      "source": [
        "pi = 3.14"
      ],
      "execution_count": 22,
      "outputs": []
    },
    {
      "cell_type": "code",
      "metadata": {
        "colab": {
          "base_uri": "https://localhost:8080/"
        },
        "id": "IvoC0CN8VFPx",
        "outputId": "a9d2e7c8-20d2-4cb3-941d-28a0ad8b82fa"
      },
      "source": [
        "type(pi)"
      ],
      "execution_count": 23,
      "outputs": [
        {
          "output_type": "execute_result",
          "data": {
            "text/plain": [
              "float"
            ]
          },
          "metadata": {},
          "execution_count": 23
        }
      ]
    },
    {
      "cell_type": "code",
      "metadata": {
        "id": "wOSrABTCVGUj"
      },
      "source": [
        "pi = 3"
      ],
      "execution_count": 24,
      "outputs": []
    },
    {
      "cell_type": "code",
      "metadata": {
        "colab": {
          "base_uri": "https://localhost:8080/"
        },
        "id": "--zUwLhVVIkv",
        "outputId": "030b43b7-95cc-47c7-bd00-aef4647978c2"
      },
      "source": [
        "type(pi)"
      ],
      "execution_count": 26,
      "outputs": [
        {
          "output_type": "execute_result",
          "data": {
            "text/plain": [
              "int"
            ]
          },
          "metadata": {},
          "execution_count": 26
        }
      ]
    },
    {
      "cell_type": "markdown",
      "metadata": {
        "id": "8bD_fP7iVaZz"
      },
      "source": [
        "Matematiksel İşlemler"
      ]
    },
    {
      "cell_type": "code",
      "metadata": {
        "id": "xJ_oKmaqVcgQ"
      },
      "source": [
        "a = 5\n",
        "b = 9"
      ],
      "execution_count": 27,
      "outputs": []
    },
    {
      "cell_type": "code",
      "metadata": {
        "colab": {
          "base_uri": "https://localhost:8080/"
        },
        "id": "01mdZW3_VhoQ",
        "outputId": "d764eaa7-ed69-4af3-9c87-d53b6e7f9450"
      },
      "source": [
        " a * b * 7"
      ],
      "execution_count": 28,
      "outputs": [
        {
          "output_type": "execute_result",
          "data": {
            "text/plain": [
              "315"
            ]
          },
          "metadata": {},
          "execution_count": 28
        }
      ]
    },
    {
      "cell_type": "code",
      "metadata": {
        "colab": {
          "base_uri": "https://localhost:8080/"
        },
        "id": "l1QcjYItVlMZ",
        "outputId": "2fab51c0-87b8-46b2-911c-751fe2455183"
      },
      "source": [
        "a * a * a * a"
      ],
      "execution_count": 29,
      "outputs": [
        {
          "output_type": "execute_result",
          "data": {
            "text/plain": [
              "625"
            ]
          },
          "metadata": {},
          "execution_count": 29
        }
      ]
    },
    {
      "cell_type": "code",
      "metadata": {
        "colab": {
          "base_uri": "https://localhost:8080/"
        },
        "id": "4jb-qSnnVpQd",
        "outputId": "cd6498f7-3d8c-4e1e-eb8d-85dd75ecd4f0"
      },
      "source": [
        "a ** 4"
      ],
      "execution_count": 30,
      "outputs": [
        {
          "output_type": "execute_result",
          "data": {
            "text/plain": [
              "625"
            ]
          },
          "metadata": {},
          "execution_count": 30
        }
      ]
    },
    {
      "cell_type": "code",
      "metadata": {
        "colab": {
          "base_uri": "https://localhost:8080/"
        },
        "id": "4pGcEj3xVxn4",
        "outputId": "f9e21252-0370-418f-cf84-b9909fe5506d"
      },
      "source": [
        "15 % 3"
      ],
      "execution_count": 31,
      "outputs": [
        {
          "output_type": "execute_result",
          "data": {
            "text/plain": [
              "0"
            ]
          },
          "metadata": {},
          "execution_count": 31
        }
      ]
    },
    {
      "cell_type": "code",
      "metadata": {
        "colab": {
          "base_uri": "https://localhost:8080/"
        },
        "id": "Apad30PRV5FH",
        "outputId": "2720d130-c6bf-4415-d9d3-3dae7b8eb9f0"
      },
      "source": [
        "11 % 4"
      ],
      "execution_count": 32,
      "outputs": [
        {
          "output_type": "execute_result",
          "data": {
            "text/plain": [
              "3"
            ]
          },
          "metadata": {},
          "execution_count": 32
        }
      ]
    },
    {
      "cell_type": "code",
      "metadata": {
        "colab": {
          "base_uri": "https://localhost:8080/"
        },
        "id": "Q-1xDW4MV7vH",
        "outputId": "66e32aed-6f90-485f-f538-16cecf4d86ce"
      },
      "source": [
        "yaş = int(input(\"Yaşınızı Giriniz : \"))"
      ],
      "execution_count": 41,
      "outputs": [
        {
          "name": "stdout",
          "output_type": "stream",
          "text": [
            "Yaşınızı Giriniz : 30\n"
          ]
        }
      ]
    },
    {
      "cell_type": "code",
      "metadata": {
        "colab": {
          "base_uri": "https://localhost:8080/"
        },
        "id": "9vXcYV0CWThr",
        "outputId": "4ff47998-1beb-4fa8-cfeb-7cdd95b7e709"
      },
      "source": [
        "yaş % 2"
      ],
      "execution_count": 46,
      "outputs": [
        {
          "output_type": "execute_result",
          "data": {
            "text/plain": [
              "0"
            ]
          },
          "metadata": {},
          "execution_count": 46
        }
      ]
    },
    {
      "cell_type": "code",
      "metadata": {
        "colab": {
          "base_uri": "https://localhost:8080/"
        },
        "id": "Xuf0micLWbrs",
        "outputId": "0f4c9b91-a4c0-4441-d3d8-c6d7fc41fe04"
      },
      "source": [
        "type(yaş)"
      ],
      "execution_count": 47,
      "outputs": [
        {
          "output_type": "execute_result",
          "data": {
            "text/plain": [
              "int"
            ]
          },
          "metadata": {},
          "execution_count": 47
        }
      ]
    },
    {
      "cell_type": "code",
      "metadata": {
        "colab": {
          "base_uri": "https://localhost:8080/"
        },
        "id": "46APq_bsXQbY",
        "outputId": "7cefe2bc-93ef-43a2-95eb-5a0796ef93b6"
      },
      "source": [
        "harfSayısı = input(\"İsminizi Giriniz:\")"
      ],
      "execution_count": 50,
      "outputs": [
        {
          "name": "stdout",
          "output_type": "stream",
          "text": [
            "İsminizi Giriniz:Kütahya Teknik Bilimler\n"
          ]
        }
      ]
    },
    {
      "cell_type": "code",
      "metadata": {
        "colab": {
          "base_uri": "https://localhost:8080/"
        },
        "id": "7ZTCX9bWYDJc",
        "outputId": "5c7738bc-16df-4f51-bee2-89cae9cd58ec"
      },
      "source": [
        "len(harfSayısı)"
      ],
      "execution_count": 51,
      "outputs": [
        {
          "output_type": "execute_result",
          "data": {
            "text/plain": [
              "23"
            ]
          },
          "metadata": {},
          "execution_count": 51
        }
      ]
    },
    {
      "cell_type": "markdown",
      "metadata": {
        "id": "4YxKVduIYSsI"
      },
      "source": [
        "Index"
      ]
    },
    {
      "cell_type": "code",
      "metadata": {
        "colab": {
          "base_uri": "https://localhost:8080/",
          "height": 36
        },
        "id": "amJg7XcyYUX9",
        "outputId": "1caeace9-a257-4e36-f4ef-788c51d87f01"
      },
      "source": [
        "harfSayısı[0]"
      ],
      "execution_count": 52,
      "outputs": [
        {
          "output_type": "execute_result",
          "data": {
            "application/vnd.google.colaboratory.intrinsic+json": {
              "type": "string"
            },
            "text/plain": [
              "'K'"
            ]
          },
          "metadata": {},
          "execution_count": 52
        }
      ]
    },
    {
      "cell_type": "code",
      "metadata": {
        "colab": {
          "base_uri": "https://localhost:8080/",
          "height": 36
        },
        "id": "7Z6tKiKXYaRq",
        "outputId": "3ca73dc7-c7a3-4459-921c-51f54e66c7a2"
      },
      "source": [
        "harfSayısı[4]"
      ],
      "execution_count": 53,
      "outputs": [
        {
          "output_type": "execute_result",
          "data": {
            "application/vnd.google.colaboratory.intrinsic+json": {
              "type": "string"
            },
            "text/plain": [
              "'h'"
            ]
          },
          "metadata": {},
          "execution_count": 53
        }
      ]
    },
    {
      "cell_type": "code",
      "metadata": {
        "colab": {
          "base_uri": "https://localhost:8080/",
          "height": 36
        },
        "id": "fzH9Nn64YdrT",
        "outputId": "bc0aedbb-fda2-4a57-89dc-873aaf040252"
      },
      "source": [
        "harfSayısı[-2]"
      ],
      "execution_count": 106,
      "outputs": [
        {
          "output_type": "execute_result",
          "data": {
            "application/vnd.google.colaboratory.intrinsic+json": {
              "type": "string"
            },
            "text/plain": [
              "'e'"
            ]
          },
          "metadata": {},
          "execution_count": 106
        }
      ]
    },
    {
      "cell_type": "code",
      "metadata": {
        "colab": {
          "base_uri": "https://localhost:8080/",
          "height": 36
        },
        "id": "iT457VQMYnic",
        "outputId": "90289ccf-c3ab-42e1-9f13-23e39176cbb9"
      },
      "source": [
        "harfSayısı[0] + harfSayısı[-1]"
      ],
      "execution_count": 55,
      "outputs": [
        {
          "output_type": "execute_result",
          "data": {
            "application/vnd.google.colaboratory.intrinsic+json": {
              "type": "string"
            },
            "text/plain": [
              "'Kr'"
            ]
          },
          "metadata": {},
          "execution_count": 55
        }
      ]
    },
    {
      "cell_type": "code",
      "metadata": {
        "colab": {
          "base_uri": "https://localhost:8080/",
          "height": 36
        },
        "id": "ok5UofSLYxMu",
        "outputId": "3f12ab1f-ed2d-4c80-a32b-8a2ee97b077f"
      },
      "source": [
        "harfSayısı[2:]"
      ],
      "execution_count": 56,
      "outputs": [
        {
          "output_type": "execute_result",
          "data": {
            "application/vnd.google.colaboratory.intrinsic+json": {
              "type": "string"
            },
            "text/plain": [
              "'tahya Teknik Bilimler'"
            ]
          },
          "metadata": {},
          "execution_count": 56
        }
      ]
    },
    {
      "cell_type": "code",
      "metadata": {
        "colab": {
          "base_uri": "https://localhost:8080/",
          "height": 36
        },
        "id": "lUUJiX3NY5Mk",
        "outputId": "7af938df-2763-410b-9937-9b595afaef5d"
      },
      "source": [
        "harfSayısı[2:7]"
      ],
      "execution_count": 58,
      "outputs": [
        {
          "output_type": "execute_result",
          "data": {
            "application/vnd.google.colaboratory.intrinsic+json": {
              "type": "string"
            },
            "text/plain": [
              "'tahya'"
            ]
          },
          "metadata": {},
          "execution_count": 58
        }
      ]
    },
    {
      "cell_type": "code",
      "metadata": {
        "colab": {
          "base_uri": "https://localhost:8080/",
          "height": 36
        },
        "id": "0QVNxIUpZA3u",
        "outputId": "e7219409-4080-445a-bf6e-560c83b11d79"
      },
      "source": [
        "harfSayısı[:7]"
      ],
      "execution_count": 59,
      "outputs": [
        {
          "output_type": "execute_result",
          "data": {
            "application/vnd.google.colaboratory.intrinsic+json": {
              "type": "string"
            },
            "text/plain": [
              "'Kütahya'"
            ]
          },
          "metadata": {},
          "execution_count": 59
        }
      ]
    },
    {
      "cell_type": "code",
      "metadata": {
        "colab": {
          "base_uri": "https://localhost:8080/",
          "height": 36
        },
        "id": "S0fSCVCmZSsL",
        "outputId": "87d7dd72-6cd4-4a3a-8c01-3f8b72067ccc"
      },
      "source": [
        "harfSayısı"
      ],
      "execution_count": 62,
      "outputs": [
        {
          "output_type": "execute_result",
          "data": {
            "application/vnd.google.colaboratory.intrinsic+json": {
              "type": "string"
            },
            "text/plain": [
              "'Kütahya Teknik Bilimler'"
            ]
          },
          "metadata": {},
          "execution_count": 62
        }
      ]
    },
    {
      "cell_type": "code",
      "metadata": {
        "colab": {
          "base_uri": "https://localhost:8080/",
          "height": 36
        },
        "id": "dPYoEwCEZ8h6",
        "outputId": "f42a317a-719e-4374-ec27-93897ae410a8"
      },
      "source": [
        "harfSayısı[1:18:2]"
      ],
      "execution_count": 61,
      "outputs": [
        {
          "output_type": "execute_result",
          "data": {
            "application/vnd.google.colaboratory.intrinsic+json": {
              "type": "string"
            },
            "text/plain": [
              "'üay enkBl'"
            ]
          },
          "metadata": {},
          "execution_count": 61
        }
      ]
    },
    {
      "cell_type": "code",
      "metadata": {
        "colab": {
          "base_uri": "https://localhost:8080/",
          "height": 36
        },
        "id": "Ja3Uv7CsZ_zh",
        "outputId": "c55f617d-0e79-4325-ef06-98e1954a58a0"
      },
      "source": [
        "harfSayısı[::2]"
      ],
      "execution_count": 63,
      "outputs": [
        {
          "output_type": "execute_result",
          "data": {
            "application/vnd.google.colaboratory.intrinsic+json": {
              "type": "string"
            },
            "text/plain": [
              "'KthaTki iilr'"
            ]
          },
          "metadata": {},
          "execution_count": 63
        }
      ]
    },
    {
      "cell_type": "code",
      "metadata": {
        "colab": {
          "base_uri": "https://localhost:8080/",
          "height": 36
        },
        "id": "DWvwn8BcaUPL",
        "outputId": "fb2db878-2412-49e5-ba1d-1a022831ef17"
      },
      "source": [
        "harfSayısı[::3]"
      ],
      "execution_count": 64,
      "outputs": [
        {
          "output_type": "execute_result",
          "data": {
            "application/vnd.google.colaboratory.intrinsic+json": {
              "type": "string"
            },
            "text/plain": [
              "'KaaeiBie'"
            ]
          },
          "metadata": {},
          "execution_count": 64
        }
      ]
    },
    {
      "cell_type": "code",
      "metadata": {
        "colab": {
          "base_uri": "https://localhost:8080/",
          "height": 36
        },
        "id": "VjkukwLJadZC",
        "outputId": "e6ba3a5c-1a1b-42c0-89b3-e32bdbd14648"
      },
      "source": [
        "harfSayısı[::-1]"
      ],
      "execution_count": 66,
      "outputs": [
        {
          "output_type": "execute_result",
          "data": {
            "application/vnd.google.colaboratory.intrinsic+json": {
              "type": "string"
            },
            "text/plain": [
              "'relmiliB kinkeT ayhatüK'"
            ]
          },
          "metadata": {},
          "execution_count": 66
        }
      ]
    },
    {
      "cell_type": "code",
      "metadata": {
        "id": "0kosnTNUbNUQ"
      },
      "source": [
        "benimismim = \"ibrahim özcan\""
      ],
      "execution_count": 71,
      "outputs": []
    },
    {
      "cell_type": "code",
      "metadata": {
        "colab": {
          "base_uri": "https://localhost:8080/",
          "height": 36
        },
        "id": "OJj6i7i9bT0z",
        "outputId": "fcbf0975-30d7-48b0-b77d-760211cb9011"
      },
      "source": [
        "benimismim.capitalize()"
      ],
      "execution_count": 70,
      "outputs": [
        {
          "output_type": "execute_result",
          "data": {
            "application/vnd.google.colaboratory.intrinsic+json": {
              "type": "string"
            },
            "text/plain": [
              "'Ibrahim ozcan'"
            ]
          },
          "metadata": {},
          "execution_count": 70
        }
      ]
    },
    {
      "cell_type": "code",
      "metadata": {
        "colab": {
          "base_uri": "https://localhost:8080/",
          "height": 36
        },
        "id": "xwzcRx3obWtJ",
        "outputId": "e518a751-7ec9-4880-f4a2-be8bd5abe1bf"
      },
      "source": [
        "benimismim.upper()"
      ],
      "execution_count": 72,
      "outputs": [
        {
          "output_type": "execute_result",
          "data": {
            "application/vnd.google.colaboratory.intrinsic+json": {
              "type": "string"
            },
            "text/plain": [
              "'IBRAHIM ÖZCAN'"
            ]
          },
          "metadata": {},
          "execution_count": 72
        }
      ]
    },
    {
      "cell_type": "code",
      "metadata": {
        "id": "hjZVSc8qbhS8"
      },
      "source": [
        "dizi = harfSayısı.split()"
      ],
      "execution_count": 74,
      "outputs": []
    },
    {
      "cell_type": "code",
      "metadata": {
        "colab": {
          "base_uri": "https://localhost:8080/"
        },
        "id": "A5SRbT15boeB",
        "outputId": "0c642a83-2f52-4a56-83e5-862edb7c4844"
      },
      "source": [
        "type(dizi)"
      ],
      "execution_count": 75,
      "outputs": [
        {
          "output_type": "execute_result",
          "data": {
            "text/plain": [
              "list"
            ]
          },
          "metadata": {},
          "execution_count": 75
        }
      ]
    },
    {
      "cell_type": "code",
      "metadata": {
        "colab": {
          "base_uri": "https://localhost:8080/"
        },
        "id": "v_6GiedgbtXX",
        "outputId": "eee47b9c-4f6e-4175-9937-d91b93d40740"
      },
      "source": [
        "dizi"
      ],
      "execution_count": 76,
      "outputs": [
        {
          "output_type": "execute_result",
          "data": {
            "text/plain": [
              "['Kütahya', 'Teknik', 'Bilimler']"
            ]
          },
          "metadata": {},
          "execution_count": 76
        }
      ]
    },
    {
      "cell_type": "code",
      "metadata": {
        "id": "S_XoKu6sbudx"
      },
      "source": [
        "isim = \"İbrahim\""
      ],
      "execution_count": 77,
      "outputs": []
    },
    {
      "cell_type": "code",
      "metadata": {
        "id": "bWUzAcO3b1yE"
      },
      "source": [
        "soyisim = \"özcan\""
      ],
      "execution_count": 78,
      "outputs": []
    },
    {
      "cell_type": "code",
      "metadata": {
        "colab": {
          "base_uri": "https://localhost:8080/",
          "height": 36
        },
        "id": "5C-HbTGpb3em",
        "outputId": "a25504fc-fa18-4d6a-d930-b983d0593b4b"
      },
      "source": [
        "isim + \" \" + soyisim"
      ],
      "execution_count": 79,
      "outputs": [
        {
          "output_type": "execute_result",
          "data": {
            "application/vnd.google.colaboratory.intrinsic+json": {
              "type": "string"
            },
            "text/plain": [
              "'İbrahim özcan'"
            ]
          },
          "metadata": {},
          "execution_count": 79
        }
      ]
    },
    {
      "cell_type": "code",
      "metadata": {
        "id": "4JobnDsOb8RH"
      },
      "source": [
        "a = \"10\"\n",
        "b = \"5\""
      ],
      "execution_count": 80,
      "outputs": []
    },
    {
      "cell_type": "code",
      "metadata": {
        "colab": {
          "base_uri": "https://localhost:8080/",
          "height": 36
        },
        "id": "DJyDNFOQcBwo",
        "outputId": "02510196-5d66-474a-db7a-9c207700e0c1"
      },
      "source": [
        "a + b"
      ],
      "execution_count": 81,
      "outputs": [
        {
          "output_type": "execute_result",
          "data": {
            "application/vnd.google.colaboratory.intrinsic+json": {
              "type": "string"
            },
            "text/plain": [
              "'105'"
            ]
          },
          "metadata": {},
          "execution_count": 81
        }
      ]
    },
    {
      "cell_type": "markdown",
      "metadata": {
        "id": "2iRruI50cdpK"
      },
      "source": [
        "1. Cumartesi Pazar Okul Yok\n",
        "2. Dolayısıyla ayda 22 gün okula geliyorsunuz\n",
        "3. Evden ( Yurttan ) okula gelip - gitmek için 5.5\n",
        "4. Bir Öğün Yemek Masrafı 4 "
      ]
    },
    {
      "cell_type": "code",
      "metadata": {
        "id": "IrSKVFWFdd4_"
      },
      "source": [
        "gunsayısı = 22\n",
        "yolparası = 5.5\n",
        "yemekparası = 4"
      ],
      "execution_count": 82,
      "outputs": []
    },
    {
      "cell_type": "code",
      "metadata": {
        "id": "UYhKanPLdpSx"
      },
      "source": [
        "aylıkmasraf = gunsayısı * (yolparası + yemekparası)"
      ],
      "execution_count": 83,
      "outputs": []
    },
    {
      "cell_type": "code",
      "metadata": {
        "colab": {
          "base_uri": "https://localhost:8080/"
        },
        "id": "AlX_30jNdvXg",
        "outputId": "b9e8033b-cd0b-4731-ea9c-988950d30dd0"
      },
      "source": [
        "aylıkmasraf"
      ],
      "execution_count": 84,
      "outputs": [
        {
          "output_type": "execute_result",
          "data": {
            "text/plain": [
              "209.0"
            ]
          },
          "metadata": {},
          "execution_count": 84
        }
      ]
    },
    {
      "cell_type": "markdown",
      "metadata": {
        "id": "UgSVVU5YeAqE"
      },
      "source": [
        "Değişkenlerin Değerini Takas Etme"
      ]
    },
    {
      "cell_type": "code",
      "metadata": {
        "id": "1uSgwGmLeE7V"
      },
      "source": [
        "Berkay = \"Proje Yürütücüsü\"\n",
        "Emrullah = \"Yazılımcı\""
      ],
      "execution_count": 85,
      "outputs": []
    },
    {
      "cell_type": "code",
      "metadata": {
        "id": "ni3o9MAdeQL2"
      },
      "source": [
        "Berkay, Emrullah = Emrullah, Berkay"
      ],
      "execution_count": 86,
      "outputs": []
    },
    {
      "cell_type": "code",
      "metadata": {
        "colab": {
          "base_uri": "https://localhost:8080/",
          "height": 36
        },
        "id": "xp4DRU93ehn-",
        "outputId": "2b024c3d-0ca0-442d-e0aa-2fcf6340d088"
      },
      "source": [
        "Berkay"
      ],
      "execution_count": 87,
      "outputs": [
        {
          "output_type": "execute_result",
          "data": {
            "application/vnd.google.colaboratory.intrinsic+json": {
              "type": "string"
            },
            "text/plain": [
              "'Yazılımcı'"
            ]
          },
          "metadata": {},
          "execution_count": 87
        }
      ]
    },
    {
      "cell_type": "code",
      "metadata": {
        "colab": {
          "base_uri": "https://localhost:8080/",
          "height": 36
        },
        "id": "2G5SCnO1eii3",
        "outputId": "deedaf4d-e07b-461c-db4e-60c44d502455"
      },
      "source": [
        "Emrullah"
      ],
      "execution_count": 88,
      "outputs": [
        {
          "output_type": "execute_result",
          "data": {
            "application/vnd.google.colaboratory.intrinsic+json": {
              "type": "string"
            },
            "text/plain": [
              "'Proje Yürütücüsü'"
            ]
          },
          "metadata": {},
          "execution_count": 88
        }
      ]
    },
    {
      "cell_type": "code",
      "metadata": {
        "id": "35_1VWcTejpT"
      },
      "source": [
        "gecici = Berkay"
      ],
      "execution_count": 89,
      "outputs": []
    },
    {
      "cell_type": "code",
      "metadata": {
        "id": "_tySAfcpetDx"
      },
      "source": [
        "Berkay = Emrullah"
      ],
      "execution_count": 90,
      "outputs": []
    },
    {
      "cell_type": "code",
      "metadata": {
        "id": "RBfjgJHQevez"
      },
      "source": [
        "Emrullah = gecici"
      ],
      "execution_count": 91,
      "outputs": []
    },
    {
      "cell_type": "code",
      "metadata": {
        "colab": {
          "base_uri": "https://localhost:8080/",
          "height": 36
        },
        "id": "6QE7ftDvexrc",
        "outputId": "a136ad2e-88fc-4d2f-a35a-f4e4cd94780f"
      },
      "source": [
        "Berkay"
      ],
      "execution_count": 92,
      "outputs": [
        {
          "output_type": "execute_result",
          "data": {
            "application/vnd.google.colaboratory.intrinsic+json": {
              "type": "string"
            },
            "text/plain": [
              "'Proje Yürütücüsü'"
            ]
          },
          "metadata": {},
          "execution_count": 92
        }
      ]
    },
    {
      "cell_type": "code",
      "metadata": {
        "colab": {
          "base_uri": "https://localhost:8080/",
          "height": 36
        },
        "id": "NwWhHe7Aeyem",
        "outputId": "a5d1d83c-9e91-4843-e00e-a046ff4fa209"
      },
      "source": [
        "Emrullah"
      ],
      "execution_count": 93,
      "outputs": [
        {
          "output_type": "execute_result",
          "data": {
            "application/vnd.google.colaboratory.intrinsic+json": {
              "type": "string"
            },
            "text/plain": [
              "'Yazılımcı'"
            ]
          },
          "metadata": {},
          "execution_count": 93
        }
      ]
    },
    {
      "cell_type": "code",
      "metadata": {
        "colab": {
          "base_uri": "https://localhost:8080/",
          "height": 36
        },
        "id": "VlmCs8qOezoi",
        "outputId": "910dfe18-91cb-473a-869b-4033bdf10691"
      },
      "source": [
        "_"
      ],
      "execution_count": 94,
      "outputs": [
        {
          "output_type": "execute_result",
          "data": {
            "application/vnd.google.colaboratory.intrinsic+json": {
              "type": "string"
            },
            "text/plain": [
              "'Yazılımcı'"
            ]
          },
          "metadata": {},
          "execution_count": 94
        }
      ]
    },
    {
      "cell_type": "markdown",
      "metadata": {
        "id": "cAbEMN6rfT0K"
      },
      "source": [
        "Print()"
      ]
    },
    {
      "cell_type": "code",
      "metadata": {
        "id": "NUtoBRLGfVd0"
      },
      "source": [
        "dil = \"Python Programlama Dili\""
      ],
      "execution_count": 95,
      "outputs": []
    },
    {
      "cell_type": "code",
      "metadata": {
        "colab": {
          "base_uri": "https://localhost:8080/",
          "height": 36
        },
        "id": "odacihLrfaas",
        "outputId": "58ca31d3-d3d9-4c2a-bcf7-49bc6c30fda7"
      },
      "source": [
        "dil"
      ],
      "execution_count": 96,
      "outputs": [
        {
          "output_type": "execute_result",
          "data": {
            "application/vnd.google.colaboratory.intrinsic+json": {
              "type": "string"
            },
            "text/plain": [
              "'Python Programlama Dili'"
            ]
          },
          "metadata": {},
          "execution_count": 96
        }
      ]
    },
    {
      "cell_type": "code",
      "metadata": {
        "colab": {
          "base_uri": "https://localhost:8080/"
        },
        "id": "GtgmEa5jfbzu",
        "outputId": "370b0939-6308-4636-fb84-f1795dfd6953"
      },
      "source": [
        "print(dil)"
      ],
      "execution_count": 97,
      "outputs": [
        {
          "output_type": "stream",
          "name": "stdout",
          "text": [
            "Python Programlama Dili\n"
          ]
        }
      ]
    },
    {
      "cell_type": "markdown",
      "metadata": {
        "id": "wqBp8gk_fi3V"
      },
      "source": [
        "1. Tek Tırnak('')\n",
        "2. Çİft Tırnak(\"\")\n",
        "3. Üç Tırnak(\"\"\" \"\"\")"
      ]
    },
    {
      "cell_type": "code",
      "metadata": {
        "colab": {
          "base_uri": "https://localhost:8080/"
        },
        "id": "m86F7B52frhR",
        "outputId": "f43f3d38-7c52-4151-92ac-bb4798d07117"
      },
      "source": [
        "print('Python Programlama Dili')"
      ],
      "execution_count": 98,
      "outputs": [
        {
          "output_type": "stream",
          "name": "stdout",
          "text": [
            "Python Programlama Dili\n"
          ]
        }
      ]
    },
    {
      "cell_type": "code",
      "metadata": {
        "colab": {
          "base_uri": "https://localhost:8080/"
        },
        "id": "Ffedt3TufvFK",
        "outputId": "d3a9c138-5813-4bcb-acd2-9e5b73628e9b"
      },
      "source": [
        "print(\"Python Programlama Dili\")"
      ],
      "execution_count": 99,
      "outputs": [
        {
          "output_type": "stream",
          "name": "stdout",
          "text": [
            "Python Programlama Dili\n"
          ]
        }
      ]
    },
    {
      "cell_type": "code",
      "metadata": {
        "colab": {
          "base_uri": "https://localhost:8080/"
        },
        "id": "OopJRLfIfyqB",
        "outputId": "52c45300-c038-451b-d2ce-375f2c83c16a"
      },
      "source": [
        "print(\"\"\"Python Programlama Dili\"\"\")"
      ],
      "execution_count": 100,
      "outputs": [
        {
          "output_type": "stream",
          "name": "stdout",
          "text": [
            "Python Programlama Dili\n"
          ]
        }
      ]
    },
    {
      "cell_type": "code",
      "metadata": {
        "colab": {
          "base_uri": "https://localhost:8080/"
        },
        "id": "45Vjxf5rf2QL",
        "outputId": "fc97cb57-57f0-4043-8ab3-0aaefc8e1952"
      },
      "source": [
        "print('Python Programlama dilinin \"piton\" yılanı ile bir ilişkisi yoktur')"
      ],
      "execution_count": 102,
      "outputs": [
        {
          "output_type": "stream",
          "name": "stdout",
          "text": [
            "Python Programlama dilinin \"piton\" yılanı ile bir ilişkisi yoktur\n"
          ]
        }
      ]
    },
    {
      "cell_type": "code",
      "metadata": {
        "colab": {
          "base_uri": "https://localhost:8080/"
        },
        "id": "XkFcK9BYgotS",
        "outputId": "e1bd1663-041b-4ebe-aec1-6fb6c909c631"
      },
      "source": [
        "print(\"\"\"Ali'nin cüzdanında \"Altın\" var\"\"\")"
      ],
      "execution_count": 103,
      "outputs": [
        {
          "output_type": "stream",
          "name": "stdout",
          "text": [
            "Ali'nin cüzdanında \"Altın\" var\n"
          ]
        }
      ]
    },
    {
      "cell_type": "code",
      "metadata": {
        "colab": {
          "base_uri": "https://localhost:8080/"
        },
        "id": "D4Of5ZjIhERo",
        "outputId": "4df8d648-2834-4caf-e59b-6d917c973ae9"
      },
      "source": [
        "print(\"\"\"\n",
        "[H]=========HARMAN========[-][o][x]\n",
        "|                                 |\n",
        "|     Programa Hoşgeldiniz!       |\n",
        "|           Sürüm 0.8             |\n",
        "|    Devam etmek için herhangi    |\n",
        "|       bir düğmeye basın.        |\n",
        "|                                 |\n",
        "|=================================|\n",
        "\"\"\")"
      ],
      "execution_count": 104,
      "outputs": [
        {
          "output_type": "stream",
          "name": "stdout",
          "text": [
            "\n",
            "[H]=========HARMAN========[-][o][x]\n",
            "|                                 |\n",
            "|     Programa Hoşgeldiniz!       |\n",
            "|           Sürüm 0.8             |\n",
            "|    Devam etmek için herhangi    |\n",
            "|       bir düğmeye basın.        |\n",
            "|                                 |\n",
            "|=================================|\n",
            "\n"
          ]
        }
      ]
    },
    {
      "cell_type": "code",
      "metadata": {
        "colab": {
          "base_uri": "https://localhost:8080/"
        },
        "id": "fMKK_5DwhU6V",
        "outputId": "5b78d6a1-39f9-47d5-e7ed-79a4ad809555"
      },
      "source": [
        "print(\"İbrahim\",\"Özcan\",37,\"Bilgisayar Kullanımı Bölümü\")"
      ],
      "execution_count": 105,
      "outputs": [
        {
          "output_type": "stream",
          "name": "stdout",
          "text": [
            "İbrahim Özcan 37 Bilgisayar Kullanımı Bölümü\n"
          ]
        }
      ]
    },
    {
      "cell_type": "code",
      "metadata": {
        "id": "fft90ylahlfy"
      },
      "source": [
        ""
      ],
      "execution_count": null,
      "outputs": []
    }
  ]
}